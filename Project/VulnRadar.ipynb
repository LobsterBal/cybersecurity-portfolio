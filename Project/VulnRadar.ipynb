{
 "cells": [
  {
   "cell_type": "markdown",
   "id": "48fdec3f-3d4a-4f74-ac87-ae4f66f85483",
   "metadata": {},
   "source": [
    "# VulnRadar\n",
    "**VulnRadar**, a custom-built tool designed to process and visualize vulnerability data efficiently. VulnRadar allows users to filter and analyze CVEs based on critical parameters such as CVSS scores, affected ports, and severity levels. This approach enables targeted insights into vulnerabilities impacting the network.\n",
    "\n",
    "## Project Objectives:\n",
    "1. To build a tool that processes vulnerability data, focusing on CVE analysis, allowing security professionals to efficiently analyze, filter, and visualize vulnerabilities.\n",
    "2. To offer a clear overview of host information, ports, and associated vulnerabilities in a structured, interactive dashboard.\n",
    "3. To integrate data from Shodan for gathering host and vulnerability information, and then enrich this data with detailed CVE information.\n",
    "\n",
    "## Tools Used:\n",
    "1. **Shodan API:** To collect host details, including open ports and associated vulnerabilities.\n",
    "2. **Python:** The core programming language for implementing the tool.\n",
    "3. **Libraries:** Libraries such as requests for fetching data from APIs, pandas for managing and visualizing the data, and ipywidgets for interactive UI elements.\n",
    "4. **IPython Widgets:** For creating a dynamic, interactive dashboard that allows filtering and displaying data based on user input.\n",
    "5. **Data Visualization:** Displaying host details, ports, and CVE data in a user-friendly tabular format.\n",
    "\n",
    "## Methodologies:\n",
    "1. **Data Collection:** Using the Shodan API to gather information about hosts and open ports, including any vulnerabilities linked to each port.\n",
    "2. **CVE Enrichment:** Extracting unique CVEs from the data and enriching them with detailed information like CVSS scores, severity, and proposed actions from external sources like the CVE DB.\n",
    "3. **Filtering and Analysis:** Applying filters (CVSS score, port, and severity) to refine data and present it in an organized manner.\n",
    "4. **Data Presentation:** Using ipywidgets to build an interactive dashboard where users can dynamically filter the data, drill down into vulnerabilities, and view detailed information per host.\n",
    "\n",
    "## Outcomes:\n",
    "1. **Interactive Dashboard:** The tool provides an interactive dashboard where users can view host details, port information, and associated CVEs. It enables users to filter vulnerabilities based on different parameters like CVSS score, port number, and severity.\n",
    "2. **Enhanced Vulnerability Detection:** The enriched CVE data provides actionable insights into each vulnerability, assisting users in identifying critical security risks.\n",
    "3. **User Customization:** Users can customize how they view the data using filter sliders and dropdowns for targeted analysis."
   ]
  },
  {
   "cell_type": "code",
   "execution_count": 12,
   "id": "c33ce781-421b-4583-877e-1d454dc69a16",
   "metadata": {
    "jupyter": {
     "source_hidden": true
    }
   },
   "outputs": [],
   "source": [
    "from shodan import Shodan\n",
    "from IPython.display import display, HTML, clear_output\n",
    "import requests\n",
    "import pandas as pd\n",
    "import ipywidgets as widgets"
   ]
  },
  {
   "cell_type": "code",
   "execution_count": 13,
   "id": "80d9a8d7-57f4-454d-b2b4-61acaa19bfa2",
   "metadata": {
    "jupyter": {
     "source_hidden": true
    }
   },
   "outputs": [],
   "source": [
    "SHODAN_API_KEY = 'rl89iPZ0hf7oVDyjz7jCHf65qEVKwawm'"
   ]
  },
  {
   "cell_type": "code",
   "execution_count": 14,
   "id": "b49331dc-6cdd-4e0d-9781-0e769680da44",
   "metadata": {
    "jupyter": {
     "source_hidden": true
    }
   },
   "outputs": [],
   "source": [
    "api = Shodan(SHODAN_API_KEY)"
   ]
  },
  {
   "cell_type": "code",
   "execution_count": 15,
   "id": "1025044c-4cc3-424c-8c61-af0637ad0303",
   "metadata": {
    "jupyter": {
     "source_hidden": true
    }
   },
   "outputs": [],
   "source": [
    "def get_shodan_data(ips):\n",
    "    host_details = []\n",
    "    for ip in ips:\n",
    "        try:\n",
    "            host_info = api.host(ip)\n",
    "            ports = []\n",
    "            \n",
    "            for host in host_info.get('data', []):\n",
    "                port_info = {\n",
    "                    'port': host.get('port', 'Unknown'),\n",
    "                    'transport': host.get('transport', 'Unknown'),\n",
    "                    'product': host.get('product', 'Unknown'),\n",
    "                    'version': host.get('version', 'Unknown'),\n",
    "                    'cpe23': host.get('cpe23', 'Unknown'),\n",
    "                    'vulns': list(host.get('vulns', {}).keys())\n",
    "                }\n",
    "                ports.append(port_info)\n",
    "            \n",
    "            host_detail = {\n",
    "                'ip': host_info.get('ip_str'),\n",
    "                'isp': host_info.get('isp', 'Unknown'),\n",
    "                'org': host_info.get('org', 'Unknown'),\n",
    "                'country': host_info.get('country_name', 'Unknown'),\n",
    "                'city': host_info.get('city', 'Unknown'),\n",
    "                'os': host_info.get('os', 'Unknown'),\n",
    "                'ports': ports\n",
    "            }\n",
    "            host_details.append(host_detail)\n",
    "        except Shodan.APIError as e:\n",
    "            print(f\"Error retrieving data for {ip}: {e}\")\n",
    "    return host_details"
   ]
  },
  {
   "cell_type": "code",
   "execution_count": 16,
   "id": "6d11f17c-f913-4c92-985a-401e9ae1a592",
   "metadata": {
    "jupyter": {
     "source_hidden": true
    }
   },
   "outputs": [],
   "source": [
    "def get_unique_cves(host_details):\n",
    "    # Create a set to store unique CVE IDs\n",
    "    cve_set = set()\n",
    "\n",
    "    # Iterate through each host in the host_details list\n",
    "    for host_detail in host_details:\n",
    "        # Iterate through the ports of each host\n",
    "        for port_info in host_detail.get('ports', []):\n",
    "            # Add all CVEs for each port to the set (set ensures uniqueness)\n",
    "            cve_set.update(port_info.get('vulns', []))\n",
    "    \n",
    "    # Convert the set of CVEs back to a list and return\n",
    "    return list(cve_set)\n"
   ]
  },
  {
   "cell_type": "code",
   "execution_count": 17,
   "id": "d971a56e-790d-425c-84ac-238ab4586861",
   "metadata": {
    "jupyter": {
     "source_hidden": true
    }
   },
   "outputs": [],
   "source": [
    "def get_cves_data(cve_set):\n",
    "    CVEDB_URL = \"https://cvedb.shodan.io/cve/\"\n",
    "    cves_details = []\n",
    "    \n",
    "    for cve in cve_set:\n",
    "        url = CVEDB_URL + cve\n",
    "        response = requests.get(url)\n",
    "        if response.status_code == 200:\n",
    "            data = response.json()\n",
    "\n",
    "            cve_info = {\n",
    "                'cve_id': cve,\n",
    "                'summary': data.get('summary', 'No Summary'),\n",
    "                'cvss': data.get('cvss', 'Unknown'),\n",
    "                'epss': data.get('epss', 'Unknown'),\n",
    "                'propose_action': data.get('propose_action', 'Unknown')\n",
    "            }\n",
    "            cves_details.append(cve_info)\n",
    "        else:\n",
    "            print(f\"Error Fetching {cve}: {response.status_code}\")\n",
    "\n",
    "    return cves_details"
   ]
  },
  {
   "cell_type": "code",
   "execution_count": 18,
   "id": "2113fa12-7f78-42f8-b09d-947342e06d0d",
   "metadata": {
    "jupyter": {
     "source_hidden": true
    }
   },
   "outputs": [],
   "source": [
    "def get_severity(cvss_score):\n",
    "    \"\"\"\n",
    "    Determine severity based on CVSS score.\n",
    "    \"\"\"\n",
    "    if cvss_score >= 9.0:\n",
    "        return \"Critical\"\n",
    "    elif 7.0 <= cvss_score < 9.0:\n",
    "        return \"High\"\n",
    "    elif 4.0 <= cvss_score < 7.0:\n",
    "        return \"Medium\"\n",
    "    elif 0.1 <= cvss_score < 4.0:\n",
    "        return \"Low\"\n",
    "    else:\n",
    "        return \"Unknown\"  # For invalid or missing scores"
   ]
  },
  {
   "cell_type": "code",
   "execution_count": 19,
   "id": "26ac4f64-d540-4949-8802-e278406a3dc6",
   "metadata": {
    "jupyter": {
     "source_hidden": true
    }
   },
   "outputs": [],
   "source": [
    "def extract_vulnerable_ports(host_details):\n",
    "    vulnerable_ports = []\n",
    "    \n",
    "    for host in host_details:\n",
    "        ip = host['ip']\n",
    "        for port in host['ports']:\n",
    "            vulns = port.get('vulns', [])\n",
    "            for cve in vulns:\n",
    "                vulnerable_ports.append({\n",
    "                    'ip': ip,\n",
    "                    'port': port['port'],\n",
    "                    'cve': cve\n",
    "                })\n",
    "    \n",
    "    return vulnerable_ports"
   ]
  },
  {
   "cell_type": "code",
   "execution_count": 20,
   "id": "25e07d19-f31c-4028-8386-1bf8c1781d5f",
   "metadata": {
    "jupyter": {
     "source_hidden": true
    }
   },
   "outputs": [],
   "source": [
    "def enrich_vulnerabilities_with_cve_data(vulnerable_ports):\n",
    "    # Extract unique CVEs\n",
    "    cve_set = {item['cve'] for item in vulnerable_ports}\n",
    "    cve_details = get_cves_data(cve_set)\n",
    "    \n",
    "    # Create a mapping of CVE ID to its details\n",
    "    cve_map = {cve['cve_id']: cve for cve in cve_details}\n",
    "    \n",
    "    # Enrich the vulnerable_ports with CVE details\n",
    "    enriched_data = []\n",
    "    for entry in vulnerable_ports:\n",
    "        cve_info = cve_map.get(entry['cve'], {})\n",
    "        cvss_score = cve_info.get('cvss', 'Unknown')\n",
    "        # Convert CVSS to a float if it's valid; otherwise, keep as \"Unknown\"\n",
    "        try:\n",
    "            cvss_score = float(cvss_score) if cvss_score != 'Unknown' else 'Unknown'\n",
    "        except ValueError:\n",
    "            cvss_score = 'Unknown'\n",
    "        \n",
    "        enriched_entry = {\n",
    "            'ip': entry['ip'],\n",
    "            'port': entry['port'],\n",
    "            'cve_id': entry['cve'],\n",
    "            'summary': cve_info.get('summary', 'No Summary'),\n",
    "            'cvss': cvss_score,\n",
    "            'severity': get_severity(cvss_score) if cvss_score != 'Unknown' else 'Unknown',\n",
    "            'epss': cve_info.get('epss', 'Unknown'),\n",
    "            'propose_action': cve_info.get('propose_action', 'Unknown')\n",
    "        }\n",
    "        enriched_data.append(enriched_entry)\n",
    "    \n",
    "    return enriched_data"
   ]
  },
  {
   "cell_type": "code",
   "execution_count": 21,
   "id": "dfef69b9-9740-4765-b4a3-8ce8e9e8525a",
   "metadata": {},
   "outputs": [],
   "source": [
    "def display_host_details_with_cve(host_details, enriched_data):\n",
    "    # Create the main container\n",
    "    container = widgets.Output()\n",
    "\n",
    "    # Display initial IP and port details\n",
    "    def show_ip_details():\n",
    "        clear_output(wait=True)\n",
    "        with container:\n",
    "            for host in host_details:\n",
    "                display_ip_details(host)\n",
    "\n",
    "    # Display details for a specific IP\n",
    "    def display_ip_details(host):\n",
    "        # Display IP information\n",
    "        ip_html = f\"\"\"\n",
    "        <div>\n",
    "            <button onclick=\"toggleDetails('{host['ip']}')\" \n",
    "                    style=\"padding: 5px 10px; background-color: #28a745; color: white; border: none; border-radius: 4px; cursor: pointer; margin-bottom: 5px;\">\n",
    "                {host['ip']}\n",
    "            </button>\n",
    "            <div id=\"{host['ip']}\" style=\"display: none; margin-top: 10px;\">\n",
    "                <b>ISP:</b> {host['isp']}<br>\n",
    "                <b>Organization:</b> {host['org']}<br>\n",
    "                <b>Country:</b> {host['country']}<br>\n",
    "                <b>City:</b> {host['city']}<br>\n",
    "                <b>OS:</b> {host['os']}<br>\n",
    "            </div>\n",
    "        </div>\n",
    "        \"\"\"\n",
    "        display(HTML(ip_html))\n",
    "\n",
    "        # Display port table\n",
    "        display_ports_table(host[\"ports\"])\n",
    "\n",
    "        # Display CVE dashboard\n",
    "        display_cve_table(host[\"ip\"])\n",
    "\n",
    "        # Add JavaScript for toggling IP details visibility\n",
    "        display(HTML(\"\"\"\n",
    "        <script type=\"text/Javascript\">\n",
    "        function toggleDetails(ip) {\n",
    "            var detailsDiv = document.getElementById(ip);\n",
    "            if (detailsDiv.style.display === \"none\") {\n",
    "                detailsDiv.style.display = \"block\";\n",
    "            } else {\n",
    "                detailsDiv.style.display = \"none\";\n",
    "            }\n",
    "        }\n",
    "        </script>\n",
    "        \"\"\"))\n",
    "\n",
    "    # Generate ports table\n",
    "    def display_ports_table(ports):\n",
    "        rows = []\n",
    "        for port in ports:\n",
    "            rows.append(f\"\"\"\n",
    "            <tr>\n",
    "                <td style=\"width: 30px; text-align: center; word-wrap: break-word;\">{port['port']}</td>\n",
    "                <td style=\"width: 30px; text-align: center; word-wrap: break-word;\">{port['transport']}</td>\n",
    "                <td style=\"width: 150px; text-align: center; word-wrap: break-word;\">{port['product']}</td>\n",
    "                <td style=\"width: 150px; text-align: center; word-wrap: break-word;\">{port['version']}</td>\n",
    "                <td style=\"width: 250px; text-align: center; word-wrap: break-word;\">{port['cpe23']}</td>\n",
    "            </tr>\n",
    "            \"\"\")\n",
    "\n",
    "        table_html = f\"\"\"\n",
    "        <table style=\"width: 100%; border-collapse: collapse; margin-top: 10px; border: 1px solid #ddd;\">\n",
    "            <thead style=\"background-color: #343a40; color: white;\">\n",
    "                <tr>\n",
    "                    <th style=\"padding: 4px; text-align: center; border: 1px solid #ddd;\">Port</th>\n",
    "                    <th style=\"padding: 4px; text-align: center; border: 1px solid #ddd;\">Transport</th>\n",
    "                    <th style=\"padding: 8px; text-align: center; border: 1px solid #ddd;\">Product</th>\n",
    "                    <th style=\"padding: 8px; text-align: center; border: 1px solid #ddd;\">Version</th>\n",
    "                    <th style=\"padding: 8px; text-align: center; border: 1px solid #ddd;\">CPE</th>\n",
    "                </tr>\n",
    "            </thead>\n",
    "            <tbody>\n",
    "                {''.join(rows)}\n",
    "            </tbody>\n",
    "        </table>\n",
    "        \"\"\"\n",
    "        display(HTML(table_html))\n",
    "\n",
    "    # Generate the CVE dashboard for a specific IP\n",
    "    def display_cve_table(host_ip):\n",
    "        # Filter enriched data for the specific IP\n",
    "        ip_cves = [entry for entry in enriched_data if entry[\"ip\"] == host_ip]\n",
    "        if not ip_cves:\n",
    "            display(HTML(\"<p>No vulnerabilities found for this IP.</p>\"))\n",
    "            return\n",
    "\n",
    "        # Create CVE DataFrame\n",
    "        cve_df = pd.DataFrame(ip_cves)\n",
    "\n",
    "        # Output area for filtered CVEs\n",
    "        cve_table_output = widgets.Output()\n",
    "\n",
    "        # CVSS filter slider\n",
    "        cvss_slider = widgets.FloatSlider(\n",
    "            value=0.0,\n",
    "            min=0.0,\n",
    "            max=10.0,\n",
    "            step=0.1,\n",
    "            description=\"Min CVSS:\"\n",
    "        )\n",
    "\n",
    "        # Port filter dropdown\n",
    "        port_options = sorted(set(cve_df[\"port\"].astype(str)))  # Get unique ports as options\n",
    "        port_filter = widgets.Dropdown(\n",
    "            options=[\"All Ports\"] + port_options,  # Add option to show all ports\n",
    "            description=\"Filter by Port:\",\n",
    "            value=\"All Ports\"\n",
    "        )\n",
    "\n",
    "        # Severity filter dropdown\n",
    "        severity_filter = widgets.Dropdown(\n",
    "            options=[\"All Severities\", \"Low\", \"Medium\", \"High\", \"Critical\"],\n",
    "            description=\"Filter by Severity:\",\n",
    "            value=\"All Severities\"\n",
    "        )\n",
    "\n",
    "        # Filter CVEs based on slider, port, and severity\n",
    "        def filter_cves(change):\n",
    "            min_cvss = cvss_slider.value\n",
    "            selected_port = port_filter.value\n",
    "            selected_severity = severity_filter.value\n",
    "\n",
    "            # Apply filters\n",
    "            filtered_cve_df = cve_df[\n",
    "                (cve_df[\"cvss\"].astype(float) >= min_cvss) &\n",
    "                ((selected_port == \"All Ports\") | (cve_df[\"port\"].astype(str) == selected_port)) &\n",
    "                ((selected_severity == \"All Severities\") | (cve_df[\"severity\"] == selected_severity))\n",
    "            ]\n",
    "\n",
    "            renamed_cve_df = filtered_cve_df.rename(\n",
    "                columns={\n",
    "                    \"port\": \"Port\",\n",
    "                    \"cve_id\": \"CVE ID\",\n",
    "                    \"summary\": \"Description\",\n",
    "                    \"cvss\": \"CVSS\",\n",
    "                    \"severity\": \"Severity\",\n",
    "                    \"epss\": \"EPSS\",\n",
    "                    \"propose_action\": \"Recommended Action\"   \n",
    "                }\n",
    "            )\n",
    "    \n",
    "            with cve_table_output:\n",
    "                cve_table_output.clear_output(wait=True)\n",
    "                if not renamed_cve_df.empty:\n",
    "                    # Build rows with HTML\n",
    "                    rows = []\n",
    "                    for _, row in renamed_cve_df.iterrows():\n",
    "                        rows.append(f\"\"\"\n",
    "                        <tr>\n",
    "                            <td style=\"text-align: center; padding: 20px;\">{row['Port']}</td>\n",
    "                            <td style=\"text-align: center; padding: 20px;\">{row['CVE ID']}</td>\n",
    "                            <td style=\"text-align: justify; padding: 20px;\">{row['Description']}</td>\n",
    "                            <td style=\"text-align: center;\">{row['CVSS']}</td>\n",
    "                            <td style=\"text-align: center;\">{row['Severity']}</td>\n",
    "                            <td style=\"text-align: center;\">{row['EPSS']}</td>\n",
    "                            <td style=\"text-align: center; padding: 20px;\">{row['Recommended Action']}</td>\n",
    "                        </tr>\n",
    "                        \"\"\")\n",
    "\n",
    "                    # Build table HTML\n",
    "                    table_html = f\"\"\"\n",
    "                    <div style=\"max-height: 300px; overflow-y: auto; border: 1px solid #ddd; padding: 10px;\">\n",
    "                        <table style=\"width: 100%; border-collapse: collapse; border: 1px solid #ddd;\">\n",
    "                            <thead style=\"background-color: #343a40; color: white;\">\n",
    "                                <tr>\n",
    "                                    <th style=\"width: 5%; padding: 4px; text-align: center; border: 1px solid #ddd;\">Port</th>\n",
    "                                    <th style=\"width: 15%; padding: 4px; text-align: center; border: 1px solid #ddd;\">CVE ID</th>\n",
    "                                    <th style=\"width: 35%; padding: 4px; text-align: center; border: 1px solid #ddd;\">Description</th>\n",
    "                                    <th style=\"width: 5%; padding: 4px; text-align: center; border: 1px solid #ddd;\">CVSS</th>\n",
    "                                    <th style=\"width: 10%; padding: 4px; text-align: center; border: 1px solid #ddd;\">Severity</th>\n",
    "                                    <th style=\"width: 10%; padding: 4px; text-align: center; border: 1px solid #ddd;\">EPSS</th>\n",
    "                                    <th style=\"width: 20%; padding: 4px; text-align: center; border: 1px solid #ddd;\">Recommended Action</th>\n",
    "                                </tr>\n",
    "                            </thead>\n",
    "                            <tbody>\n",
    "                                {''.join(rows)}\n",
    "                            </tbody>\n",
    "                        </table>\n",
    "                    </div>\n",
    "                    \"\"\"\n",
    "                    display(HTML(table_html))\n",
    "                else:\n",
    "                    display(HTML(\"<p>No CVEs match the selected filter.</p>\"))\n",
    "\n",
    "        # Observe slider, port filter, and severity filter changes\n",
    "        cvss_slider.observe(filter_cves, names=\"value\")\n",
    "        port_filter.observe(filter_cves, names=\"value\")\n",
    "        severity_filter.observe(filter_cves, names=\"value\")\n",
    "\n",
    "        # Initial CVE table display\n",
    "        filter_cves(None)\n",
    "\n",
    "        # Create three equal blocks and arrange them horizontally with padding\n",
    "        filter_block_layout = widgets.Layout(width=\"33%\", padding=\"10px\")\n",
    "        filters_hbox = widgets.HBox([\n",
    "            widgets.VBox([cvss_slider], layout=filter_block_layout),\n",
    "            widgets.VBox([port_filter], layout=filter_block_layout),\n",
    "            widgets.VBox([severity_filter], layout=filter_block_layout),\n",
    "        ])\n",
    "\n",
    "        display(widgets.VBox([filters_hbox, cve_table_output]))\n",
    "\n",
    "    # Initial display\n",
    "    show_ip_details()\n",
    "    display(container)\n"
   ]
  },
  {
   "cell_type": "code",
   "execution_count": 22,
   "id": "a441d798-1337-4099-b142-7c12f4698e31",
   "metadata": {
    "scrolled": true
   },
   "outputs": [
    {
     "data": {
      "application/vnd.jupyter.widget-view+json": {
       "model_id": "0b94e620e3974b079e5522c2d77f4407",
       "version_major": 2,
       "version_minor": 0
      },
      "text/plain": [
       "Output()"
      ]
     },
     "metadata": {},
     "output_type": "display_data"
    }
   ],
   "source": [
    "ips_to_scan = ['8.8.8.8', '122.17.145.180','12.175.6.47']\n",
    "host_details = get_shodan_data(ips_to_scan)\n",
    "vulnerable_ports = extract_vulnerable_ports(host_details)\n",
    "enriched_data = enrich_vulnerabilities_with_cve_data(vulnerable_ports)\n",
    "display_host_details_with_cve(host_details, enriched_data)\n",
    "#display_details(enriched_data)"
   ]
  },
  {
   "cell_type": "markdown",
   "id": "a3723cac-9f63-4da3-a535-5fdd9f6d3c07",
   "metadata": {},
   "source": [
    "If the output is **\"Error displaying widget: model not found\"**, please check browser console using F12, you may find error like \"Unsatisfied version 2.3.2 from _JUPYTERLAB.CORE_OUTPUT of shared singleton module @lumino/widgets (required ^1.37.2)\", you may proceed to solve it before you be able to see the saved output\n",
    "\n",
    "**OR**\n",
    "\n",
    "simply **RESTART** the kernel and **RUN** the code again."
   ]
  }
 ],
 "metadata": {
  "kernelspec": {
   "display_name": "Python 3 (ipykernel)",
   "language": "python",
   "name": "python3"
  },
  "language_info": {
   "codemirror_mode": {
    "name": "ipython",
    "version": 3
   },
   "file_extension": ".py",
   "mimetype": "text/x-python",
   "name": "python",
   "nbconvert_exporter": "python",
   "pygments_lexer": "ipython3",
   "version": "3.12.4"
  },
  "widgets": {
   "application/vnd.jupyter.widget-state+json": {
    "state": {
     "0b94e620e3974b079e5522c2d77f4407": {
      "model_module": "@jupyter-widgets/output",
      "model_module_version": "1.0.0",
      "model_name": "OutputModel",
      "state": {
       "layout": "IPY_MODEL_71edb5a9897844fd961fd162916104b9",
       "outputs": [
        {
         "data": {
          "text/html": "\n        <div>\n            <button onclick=\"toggleDetails('8.8.8.8')\" \n                    style=\"padding: 5px 10px; background-color: #28a745; color: white; border: none; border-radius: 4px; cursor: pointer; margin-bottom: 5px;\">\n                8.8.8.8\n            </button>\n            <div id=\"8.8.8.8\" style=\"display: none; margin-top: 10px;\">\n                <b>ISP:</b> Google LLC<br>\n                <b>Organization:</b> Google LLC<br>\n                <b>Country:</b> United States<br>\n                <b>City:</b> Mountain View<br>\n                <b>OS:</b> None<br>\n            </div>\n        </div>\n        ",
          "text/plain": "<IPython.core.display.HTML object>"
         },
         "metadata": {},
         "output_type": "display_data"
        },
        {
         "data": {
          "text/html": "\n        <table style=\"width: 100%; border-collapse: collapse; margin-top: 10px; border: 1px solid #ddd;\">\n            <thead style=\"background-color: #343a40; color: white;\">\n                <tr>\n                    <th style=\"padding: 4px; text-align: center; border: 1px solid #ddd;\">Port</th>\n                    <th style=\"padding: 4px; text-align: center; border: 1px solid #ddd;\">Transport</th>\n                    <th style=\"padding: 8px; text-align: center; border: 1px solid #ddd;\">Product</th>\n                    <th style=\"padding: 8px; text-align: center; border: 1px solid #ddd;\">Version</th>\n                    <th style=\"padding: 8px; text-align: center; border: 1px solid #ddd;\">CPE</th>\n                </tr>\n            </thead>\n            <tbody>\n                \n            <tr>\n                <td style=\"width: 30px; text-align: center; word-wrap: break-word;\">53</td>\n                <td style=\"width: 30px; text-align: center; word-wrap: break-word;\">tcp</td>\n                <td style=\"width: 150px; text-align: center; word-wrap: break-word;\">Unknown</td>\n                <td style=\"width: 150px; text-align: center; word-wrap: break-word;\">Unknown</td>\n                <td style=\"width: 250px; text-align: center; word-wrap: break-word;\">Unknown</td>\n            </tr>\n            \n            <tr>\n                <td style=\"width: 30px; text-align: center; word-wrap: break-word;\">53</td>\n                <td style=\"width: 30px; text-align: center; word-wrap: break-word;\">udp</td>\n                <td style=\"width: 150px; text-align: center; word-wrap: break-word;\">Unknown</td>\n                <td style=\"width: 150px; text-align: center; word-wrap: break-word;\">Unknown</td>\n                <td style=\"width: 250px; text-align: center; word-wrap: break-word;\">Unknown</td>\n            </tr>\n            \n            <tr>\n                <td style=\"width: 30px; text-align: center; word-wrap: break-word;\">443</td>\n                <td style=\"width: 30px; text-align: center; word-wrap: break-word;\">tcp</td>\n                <td style=\"width: 150px; text-align: center; word-wrap: break-word;\">Unknown</td>\n                <td style=\"width: 150px; text-align: center; word-wrap: break-word;\">Unknown</td>\n                <td style=\"width: 250px; text-align: center; word-wrap: break-word;\">Unknown</td>\n            </tr>\n            \n            </tbody>\n        </table>\n        ",
          "text/plain": "<IPython.core.display.HTML object>"
         },
         "metadata": {},
         "output_type": "display_data"
        },
        {
         "data": {
          "text/html": "<p>No vulnerabilities found for this IP.</p>",
          "text/plain": "<IPython.core.display.HTML object>"
         },
         "metadata": {},
         "output_type": "display_data"
        },
        {
         "data": {
          "text/html": "\n        <script type=\"text/Javascript\">\n        function toggleDetails(ip) {\n            var detailsDiv = document.getElementById(ip);\n            if (detailsDiv.style.display === \"none\") {\n                detailsDiv.style.display = \"block\";\n            } else {\n                detailsDiv.style.display = \"none\";\n            }\n        }\n        </script>\n        ",
          "text/plain": "<IPython.core.display.HTML object>"
         },
         "metadata": {},
         "output_type": "display_data"
        },
        {
         "data": {
          "text/html": "\n        <div>\n            <button onclick=\"toggleDetails('122.17.145.180')\" \n                    style=\"padding: 5px 10px; background-color: #28a745; color: white; border: none; border-radius: 4px; cursor: pointer; margin-bottom: 5px;\">\n                122.17.145.180\n            </button>\n            <div id=\"122.17.145.180\" style=\"display: none; margin-top: 10px;\">\n                <b>ISP:</b> NTT Communications Corporation<br>\n                <b>Organization:</b> Open Computer Network<br>\n                <b>Country:</b> Japan<br>\n                <b>City:</b> Saitama<br>\n                <b>OS:</b> None<br>\n            </div>\n        </div>\n        ",
          "text/plain": "<IPython.core.display.HTML object>"
         },
         "metadata": {},
         "output_type": "display_data"
        },
        {
         "data": {
          "text/html": "\n        <table style=\"width: 100%; border-collapse: collapse; margin-top: 10px; border: 1px solid #ddd;\">\n            <thead style=\"background-color: #343a40; color: white;\">\n                <tr>\n                    <th style=\"padding: 4px; text-align: center; border: 1px solid #ddd;\">Port</th>\n                    <th style=\"padding: 4px; text-align: center; border: 1px solid #ddd;\">Transport</th>\n                    <th style=\"padding: 8px; text-align: center; border: 1px solid #ddd;\">Product</th>\n                    <th style=\"padding: 8px; text-align: center; border: 1px solid #ddd;\">Version</th>\n                    <th style=\"padding: 8px; text-align: center; border: 1px solid #ddd;\">CPE</th>\n                </tr>\n            </thead>\n            <tbody>\n                \n            <tr>\n                <td style=\"width: 30px; text-align: center; word-wrap: break-word;\">21</td>\n                <td style=\"width: 30px; text-align: center; word-wrap: break-word;\">tcp</td>\n                <td style=\"width: 150px; text-align: center; word-wrap: break-word;\">Unknown</td>\n                <td style=\"width: 150px; text-align: center; word-wrap: break-word;\">Unknown</td>\n                <td style=\"width: 250px; text-align: center; word-wrap: break-word;\">Unknown</td>\n            </tr>\n            \n            <tr>\n                <td style=\"width: 30px; text-align: center; word-wrap: break-word;\">25</td>\n                <td style=\"width: 30px; text-align: center; word-wrap: break-word;\">tcp</td>\n                <td style=\"width: 150px; text-align: center; word-wrap: break-word;\">Postfix smtpd</td>\n                <td style=\"width: 150px; text-align: center; word-wrap: break-word;\">Unknown</td>\n                <td style=\"width: 250px; text-align: center; word-wrap: break-word;\">['cpe:2.3:a:postfix:postfix']</td>\n            </tr>\n            \n            <tr>\n                <td style=\"width: 30px; text-align: center; word-wrap: break-word;\">80</td>\n                <td style=\"width: 30px; text-align: center; word-wrap: break-word;\">tcp</td>\n                <td style=\"width: 150px; text-align: center; word-wrap: break-word;\">Apache httpd</td>\n                <td style=\"width: 150px; text-align: center; word-wrap: break-word;\">2.4.37</td>\n                <td style=\"width: 250px; text-align: center; word-wrap: break-word;\">['cpe:2.3:a:apache:http_server:2.4.37']</td>\n            </tr>\n            \n            <tr>\n                <td style=\"width: 30px; text-align: center; word-wrap: break-word;\">110</td>\n                <td style=\"width: 30px; text-align: center; word-wrap: break-word;\">tcp</td>\n                <td style=\"width: 150px; text-align: center; word-wrap: break-word;\">Unknown</td>\n                <td style=\"width: 150px; text-align: center; word-wrap: break-word;\">Unknown</td>\n                <td style=\"width: 250px; text-align: center; word-wrap: break-word;\">Unknown</td>\n            </tr>\n            \n            <tr>\n                <td style=\"width: 30px; text-align: center; word-wrap: break-word;\">587</td>\n                <td style=\"width: 30px; text-align: center; word-wrap: break-word;\">tcp</td>\n                <td style=\"width: 150px; text-align: center; word-wrap: break-word;\">Postfix smtpd</td>\n                <td style=\"width: 150px; text-align: center; word-wrap: break-word;\">Unknown</td>\n                <td style=\"width: 250px; text-align: center; word-wrap: break-word;\">['cpe:2.3:a:postfix:postfix']</td>\n            </tr>\n            \n            <tr>\n                <td style=\"width: 30px; text-align: center; word-wrap: break-word;\">993</td>\n                <td style=\"width: 30px; text-align: center; word-wrap: break-word;\">tcp</td>\n                <td style=\"width: 150px; text-align: center; word-wrap: break-word;\">Unknown</td>\n                <td style=\"width: 150px; text-align: center; word-wrap: break-word;\">Unknown</td>\n                <td style=\"width: 250px; text-align: center; word-wrap: break-word;\">Unknown</td>\n            </tr>\n            \n            <tr>\n                <td style=\"width: 30px; text-align: center; word-wrap: break-word;\">995</td>\n                <td style=\"width: 30px; text-align: center; word-wrap: break-word;\">tcp</td>\n                <td style=\"width: 150px; text-align: center; word-wrap: break-word;\">Unknown</td>\n                <td style=\"width: 150px; text-align: center; word-wrap: break-word;\">Unknown</td>\n                <td style=\"width: 250px; text-align: center; word-wrap: break-word;\">Unknown</td>\n            </tr>\n            \n            </tbody>\n        </table>\n        ",
          "text/plain": "<IPython.core.display.HTML object>"
         },
         "metadata": {},
         "output_type": "display_data"
        },
        {
         "data": {
          "application/vnd.jupyter.widget-view+json": {
           "model_id": "e598bb726e5c41098c3955aa9e21b8a9",
           "version_major": 2,
           "version_minor": 0
          },
          "text/plain": "VBox(children=(HBox(children=(VBox(children=(FloatSlider(value=0.0, description='Min CVSS:', max=10.0),), layo…"
         },
         "metadata": {},
         "output_type": "display_data"
        },
        {
         "data": {
          "text/html": "\n        <script type=\"text/Javascript\">\n        function toggleDetails(ip) {\n            var detailsDiv = document.getElementById(ip);\n            if (detailsDiv.style.display === \"none\") {\n                detailsDiv.style.display = \"block\";\n            } else {\n                detailsDiv.style.display = \"none\";\n            }\n        }\n        </script>\n        ",
          "text/plain": "<IPython.core.display.HTML object>"
         },
         "metadata": {},
         "output_type": "display_data"
        },
        {
         "data": {
          "text/html": "\n        <div>\n            <button onclick=\"toggleDetails('12.175.6.47')\" \n                    style=\"padding: 5px 10px; background-color: #28a745; color: white; border: none; border-radius: 4px; cursor: pointer; margin-bottom: 5px;\">\n                12.175.6.47\n            </button>\n            <div id=\"12.175.6.47\" style=\"display: none; margin-top: 10px;\">\n                <b>ISP:</b> AT&T Services, Inc.<br>\n                <b>Organization:</b> Leepfrog Technologies Inc.<br>\n                <b>Country:</b> United States<br>\n                <b>City:</b> Ames<br>\n                <b>OS:</b> None<br>\n            </div>\n        </div>\n        ",
          "text/plain": "<IPython.core.display.HTML object>"
         },
         "metadata": {},
         "output_type": "display_data"
        },
        {
         "data": {
          "text/html": "\n        <table style=\"width: 100%; border-collapse: collapse; margin-top: 10px; border: 1px solid #ddd;\">\n            <thead style=\"background-color: #343a40; color: white;\">\n                <tr>\n                    <th style=\"padding: 4px; text-align: center; border: 1px solid #ddd;\">Port</th>\n                    <th style=\"padding: 4px; text-align: center; border: 1px solid #ddd;\">Transport</th>\n                    <th style=\"padding: 8px; text-align: center; border: 1px solid #ddd;\">Product</th>\n                    <th style=\"padding: 8px; text-align: center; border: 1px solid #ddd;\">Version</th>\n                    <th style=\"padding: 8px; text-align: center; border: 1px solid #ddd;\">CPE</th>\n                </tr>\n            </thead>\n            <tbody>\n                \n            <tr>\n                <td style=\"width: 30px; text-align: center; word-wrap: break-word;\">80</td>\n                <td style=\"width: 30px; text-align: center; word-wrap: break-word;\">tcp</td>\n                <td style=\"width: 150px; text-align: center; word-wrap: break-word;\">Apache httpd</td>\n                <td style=\"width: 150px; text-align: center; word-wrap: break-word;\">Unknown</td>\n                <td style=\"width: 250px; text-align: center; word-wrap: break-word;\">['cpe:2.3:a:apache:http_server']</td>\n            </tr>\n            \n            <tr>\n                <td style=\"width: 30px; text-align: center; word-wrap: break-word;\">443</td>\n                <td style=\"width: 30px; text-align: center; word-wrap: break-word;\">tcp</td>\n                <td style=\"width: 150px; text-align: center; word-wrap: break-word;\">Apache httpd</td>\n                <td style=\"width: 150px; text-align: center; word-wrap: break-word;\">Unknown</td>\n                <td style=\"width: 250px; text-align: center; word-wrap: break-word;\">['cpe:2.3:a:apache:http_server', 'cpe:2.3:a:jquery:jquery']</td>\n            </tr>\n            \n            </tbody>\n        </table>\n        ",
          "text/plain": "<IPython.core.display.HTML object>"
         },
         "metadata": {},
         "output_type": "display_data"
        },
        {
         "data": {
          "text/html": "<p>No vulnerabilities found for this IP.</p>",
          "text/plain": "<IPython.core.display.HTML object>"
         },
         "metadata": {},
         "output_type": "display_data"
        },
        {
         "data": {
          "text/html": "\n        <script type=\"text/Javascript\">\n        function toggleDetails(ip) {\n            var detailsDiv = document.getElementById(ip);\n            if (detailsDiv.style.display === \"none\") {\n                detailsDiv.style.display = \"block\";\n            } else {\n                detailsDiv.style.display = \"none\";\n            }\n        }\n        </script>\n        ",
          "text/plain": "<IPython.core.display.HTML object>"
         },
         "metadata": {},
         "output_type": "display_data"
        }
       ]
      }
     },
     "15c41d9dd8c5447a9ea47b43b22d8a34": {
      "model_module": "@jupyter-widgets/controls",
      "model_module_version": "2.0.0",
      "model_name": "VBoxModel",
      "state": {
       "children": [
        "IPY_MODEL_46b69002a910441584a120b09a945764"
       ],
       "layout": "IPY_MODEL_1bc7aa0b74d54387a4f42db7e571a424"
      }
     },
     "1bc7aa0b74d54387a4f42db7e571a424": {
      "model_module": "@jupyter-widgets/base",
      "model_module_version": "2.0.0",
      "model_name": "LayoutModel",
      "state": {
       "padding": "10px",
       "width": "33%"
      }
     },
     "222469131b964b339b84622036968926": {
      "model_module": "@jupyter-widgets/controls",
      "model_module_version": "2.0.0",
      "model_name": "VBoxModel",
      "state": {
       "children": [
        "IPY_MODEL_bdd5a169dca14f3fa9d93cd1d5557261"
       ],
       "layout": "IPY_MODEL_1bc7aa0b74d54387a4f42db7e571a424"
      }
     },
     "2e47084af7e94f88a04019625d0525b0": {
      "model_module": "@jupyter-widgets/base",
      "model_module_version": "2.0.0",
      "model_name": "LayoutModel",
      "state": {}
     },
     "33b151c40bbe4b369da72c747a42521b": {
      "model_module": "@jupyter-widgets/base",
      "model_module_version": "2.0.0",
      "model_name": "LayoutModel",
      "state": {}
     },
     "46b69002a910441584a120b09a945764": {
      "model_module": "@jupyter-widgets/controls",
      "model_module_version": "2.0.0",
      "model_name": "FloatSliderModel",
      "state": {
       "behavior": "drag-tap",
       "description": "Min CVSS:",
       "layout": "IPY_MODEL_ae0117781ae54b6e9af72b933d0e7d84",
       "max": 10,
       "step": 0.1,
       "style": "IPY_MODEL_ee1d7a881f584020bdebf57e266c3586"
      }
     },
     "70afc3cc6c0c408f98918b521f5a540e": {
      "model_module": "@jupyter-widgets/base",
      "model_module_version": "2.0.0",
      "model_name": "LayoutModel",
      "state": {}
     },
     "71edb5a9897844fd961fd162916104b9": {
      "model_module": "@jupyter-widgets/base",
      "model_module_version": "2.0.0",
      "model_name": "LayoutModel",
      "state": {}
     },
     "94b039d713c84733bbcda1dbae81ae10": {
      "model_module": "@jupyter-widgets/controls",
      "model_module_version": "2.0.0",
      "model_name": "DescriptionStyleModel",
      "state": {
       "description_width": ""
      }
     },
     "9c3208c592a147af9fce7abeed67ac75": {
      "model_module": "@jupyter-widgets/controls",
      "model_module_version": "2.0.0",
      "model_name": "HBoxModel",
      "state": {
       "children": [
        "IPY_MODEL_15c41d9dd8c5447a9ea47b43b22d8a34",
        "IPY_MODEL_c31f87b2bd914426930866d46016dbcb",
        "IPY_MODEL_222469131b964b339b84622036968926"
       ],
       "layout": "IPY_MODEL_ff6cf06dd7fa4f928133f3cdba7f9928"
      }
     },
     "a792182ddf424c759be1096a747f982c": {
      "model_module": "@jupyter-widgets/controls",
      "model_module_version": "2.0.0",
      "model_name": "DescriptionStyleModel",
      "state": {
       "description_width": ""
      }
     },
     "ae0117781ae54b6e9af72b933d0e7d84": {
      "model_module": "@jupyter-widgets/base",
      "model_module_version": "2.0.0",
      "model_name": "LayoutModel",
      "state": {}
     },
     "bdd5a169dca14f3fa9d93cd1d5557261": {
      "model_module": "@jupyter-widgets/controls",
      "model_module_version": "2.0.0",
      "model_name": "DropdownModel",
      "state": {
       "_options_labels": [
        "All Severities",
        "Low",
        "Medium",
        "High",
        "Critical"
       ],
       "description": "Filter by Severity:",
       "index": 3,
       "layout": "IPY_MODEL_70afc3cc6c0c408f98918b521f5a540e",
       "style": "IPY_MODEL_a792182ddf424c759be1096a747f982c"
      }
     },
     "bf65cedd05ab43fd88f2912782013ece": {
      "model_module": "@jupyter-widgets/output",
      "model_module_version": "1.0.0",
      "model_name": "OutputModel",
      "state": {
       "layout": "IPY_MODEL_2e47084af7e94f88a04019625d0525b0",
       "outputs": [
        {
         "data": {
          "text/html": "\n                    <div style=\"max-height: 300px; overflow-y: auto; border: 1px solid #ddd; padding: 10px;\">\n                        <table style=\"width: 100%; border-collapse: collapse; border: 1px solid #ddd;\">\n                            <thead style=\"background-color: #343a40; color: white;\">\n                                <tr>\n                                    <th style=\"width: 5%; padding: 4px; text-align: center; border: 1px solid #ddd;\">Port</th>\n                                    <th style=\"width: 15%; padding: 4px; text-align: center; border: 1px solid #ddd;\">CVE ID</th>\n                                    <th style=\"width: 35%; padding: 4px; text-align: center; border: 1px solid #ddd;\">Description</th>\n                                    <th style=\"width: 5%; padding: 4px; text-align: center; border: 1px solid #ddd;\">CVSS</th>\n                                    <th style=\"width: 10%; padding: 4px; text-align: center; border: 1px solid #ddd;\">Severity</th>\n                                    <th style=\"width: 10%; padding: 4px; text-align: center; border: 1px solid #ddd;\">EPSS</th>\n                                    <th style=\"width: 20%; padding: 4px; text-align: center; border: 1px solid #ddd;\">Recommended Action</th>\n                                </tr>\n                            </thead>\n                            <tbody>\n                                \n                        <tr>\n                            <td style=\"text-align: center; padding: 20px;\">80</td>\n                            <td style=\"text-align: center; padding: 20px;\">CVE-2019-0190</td>\n                            <td style=\"text-align: justify; padding: 20px;\">A bug exists in the way mod_ssl handled client renegotiations. A remote attacker could send a carefully crafted request that would cause mod_ssl to enter a loop leading to a denial of service. This bug can be only triggered with Apache HTTP Server version 2.4.37 when using OpenSSL version 1.1.1 or later, due to an interaction in changes to handling of renegotiation attempts.</td>\n                            <td style=\"text-align: center;\">7.5</td>\n                            <td style=\"text-align: center;\">High</td>\n                            <td style=\"text-align: center;\">0.01826</td>\n                            <td style=\"text-align: center; padding: 20px;\">None</td>\n                        </tr>\n                        \n                        <tr>\n                            <td style=\"text-align: center; padding: 20px;\">80</td>\n                            <td style=\"text-align: center; padding: 20px;\">CVE-2024-27316</td>\n                            <td style=\"text-align: justify; padding: 20px;\">HTTP/2 incoming headers exceeding the limit are temporarily buffered in nghttp2 in order to generate an informative HTTP 413 response. If a client does not stop sending headers, this leads to memory exhaustion.</td>\n                            <td style=\"text-align: center;\">7.5</td>\n                            <td style=\"text-align: center;\">High</td>\n                            <td style=\"text-align: center;\">0.00191</td>\n                            <td style=\"text-align: center; padding: 20px;\">None</td>\n                        </tr>\n                        \n                        <tr>\n                            <td style=\"text-align: center; padding: 20px;\">80</td>\n                            <td style=\"text-align: center; padding: 20px;\">CVE-2020-35452</td>\n                            <td style=\"text-align: justify; padding: 20px;\">Apache HTTP Server versions 2.4.0 to 2.4.46 A specially crafted Digest nonce can cause a stack overflow in mod_auth_digest. There is no report of this overflow being exploitable, nor the Apache HTTP Server team could create one, though some particular compiler and/or compilation option might make it possible, with limited consequences anyway due to the size (a single byte) and the value (zero byte) of the overflow</td>\n                            <td style=\"text-align: center;\">7.3</td>\n                            <td style=\"text-align: center;\">High</td>\n                            <td style=\"text-align: center;\">0.0104</td>\n                            <td style=\"text-align: center; padding: 20px;\">None</td>\n                        </tr>\n                        \n                        <tr>\n                            <td style=\"text-align: center; padding: 20px;\">80</td>\n                            <td style=\"text-align: center; padding: 20px;\">CVE-2019-0215</td>\n                            <td style=\"text-align: justify; padding: 20px;\">In Apache HTTP Server 2.4 releases 2.4.37 and 2.4.38, a bug in mod_ssl when using per-location client certificate verification with TLSv1.3 allowed a client to bypass configured access control restrictions.</td>\n                            <td style=\"text-align: center;\">7.5</td>\n                            <td style=\"text-align: center;\">High</td>\n                            <td style=\"text-align: center;\">0.00203</td>\n                            <td style=\"text-align: center; padding: 20px;\">None</td>\n                        </tr>\n                        \n                        <tr>\n                            <td style=\"text-align: center; padding: 20px;\">80</td>\n                            <td style=\"text-align: center; padding: 20px;\">CVE-2022-29404</td>\n                            <td style=\"text-align: justify; padding: 20px;\">In Apache HTTP Server 2.4.53 and earlier, a malicious request to a lua script that calls r:parsebody(0) may cause a denial of service due to no default limit on possible input size.</td>\n                            <td style=\"text-align: center;\">7.5</td>\n                            <td style=\"text-align: center;\">High</td>\n                            <td style=\"text-align: center;\">0.02229</td>\n                            <td style=\"text-align: center; padding: 20px;\">None</td>\n                        </tr>\n                        \n                        <tr>\n                            <td style=\"text-align: center; padding: 20px;\">80</td>\n                            <td style=\"text-align: center; padding: 20px;\">CVE-2023-27522</td>\n                            <td style=\"text-align: justify; padding: 20px;\">HTTP Response Smuggling vulnerability in Apache HTTP Server via mod_proxy_uwsgi. This issue affects Apache HTTP Server: from 2.4.30 through 2.4.55.\n\nSpecial characters in the origin response header can truncate/split the response forwarded to the client.\n\n\n</td>\n                            <td style=\"text-align: center;\">7.5</td>\n                            <td style=\"text-align: center;\">High</td>\n                            <td style=\"text-align: center;\">0.01168</td>\n                            <td style=\"text-align: center; padding: 20px;\">None</td>\n                        </tr>\n                        \n                        <tr>\n                            <td style=\"text-align: center; padding: 20px;\">80</td>\n                            <td style=\"text-align: center; padding: 20px;\">CVE-2013-4365</td>\n                            <td style=\"text-align: justify; padding: 20px;\">Heap-based buffer overflow in the fcgid_header_bucket_read function in fcgid_bucket.c in the mod_fcgid module before 2.3.9 for the Apache HTTP Server allows remote attackers to have an unspecified impact via unknown vectors.</td>\n                            <td style=\"text-align: center;\">7.5</td>\n                            <td style=\"text-align: center;\">High</td>\n                            <td style=\"text-align: center;\">0.01446</td>\n                            <td style=\"text-align: center; padding: 20px;\">None</td>\n                        </tr>\n                        \n                        <tr>\n                            <td style=\"text-align: center; padding: 20px;\">80</td>\n                            <td style=\"text-align: center; padding: 20px;\">CVE-2020-11993</td>\n                            <td style=\"text-align: justify; padding: 20px;\">Apache HTTP Server versions 2.4.20 to 2.4.43 When trace/debug was enabled for the HTTP/2 module and on certain traffic edge patterns, logging statements were made on the wrong connection, causing concurrent use of memory pools. Configuring the LogLevel of mod_http2 above \"info\" will mitigate this vulnerability for unpatched servers.</td>\n                            <td style=\"text-align: center;\">7.5</td>\n                            <td style=\"text-align: center;\">High</td>\n                            <td style=\"text-align: center;\">0.00424</td>\n                            <td style=\"text-align: center; padding: 20px;\">None</td>\n                        </tr>\n                        \n                        <tr>\n                            <td style=\"text-align: center; padding: 20px;\">80</td>\n                            <td style=\"text-align: center; padding: 20px;\">CVE-2019-0211</td>\n                            <td style=\"text-align: justify; padding: 20px;\">In Apache HTTP Server 2.4 releases 2.4.17 to 2.4.38, with MPM event, worker or prefork, code executing in less-privileged child processes or threads (including scripts executed by an in-process scripting interpreter) could execute arbitrary code with the privileges of the parent process (usually root) by manipulating the scoreboard. Non-Unix systems are not affected.</td>\n                            <td style=\"text-align: center;\">7.8</td>\n                            <td style=\"text-align: center;\">High</td>\n                            <td style=\"text-align: center;\">0.96658</td>\n                            <td style=\"text-align: center; padding: 20px;\">Apache HTTP Server, with MPM event, worker or prefork, code executing in less-privileged child processes or threads (including scripts executed by an in-process scripting interpreter) could execute code with the privileges of the parent process (usually root) by manipulating the scoreboard.</td>\n                        </tr>\n                        \n                        <tr>\n                            <td style=\"text-align: center; padding: 20px;\">80</td>\n                            <td style=\"text-align: center; padding: 20px;\">CVE-2023-31122</td>\n                            <td style=\"text-align: justify; padding: 20px;\">Out-of-bounds Read vulnerability in mod_macro of Apache HTTP Server.This issue affects Apache HTTP Server: through 2.4.57.\n\n</td>\n                            <td style=\"text-align: center;\">7.5</td>\n                            <td style=\"text-align: center;\">High</td>\n                            <td style=\"text-align: center;\">0.0574</td>\n                            <td style=\"text-align: center; padding: 20px;\">None</td>\n                        </tr>\n                        \n                        <tr>\n                            <td style=\"text-align: center; padding: 20px;\">80</td>\n                            <td style=\"text-align: center; padding: 20px;\">CVE-2019-9517</td>\n                            <td style=\"text-align: justify; padding: 20px;\">Some HTTP/2 implementations are vulnerable to unconstrained interal data buffering, potentially leading to a denial of service. The attacker opens the HTTP/2 window so the peer can send without constraint; however, they leave the TCP window closed so the peer cannot actually write (many of) the bytes on the wire. The attacker then sends a stream of requests for a large response object. Depending on how the servers queue the responses, this can consume excess memory, CPU, or both.</td>\n                            <td style=\"text-align: center;\">7.5</td>\n                            <td style=\"text-align: center;\">High</td>\n                            <td style=\"text-align: center;\">0.08252</td>\n                            <td style=\"text-align: center; padding: 20px;\">None</td>\n                        </tr>\n                        \n                        <tr>\n                            <td style=\"text-align: center; padding: 20px;\">80</td>\n                            <td style=\"text-align: center; padding: 20px;\">CVE-2024-38477</td>\n                            <td style=\"text-align: justify; padding: 20px;\">null pointer dereference in mod_proxy in Apache HTTP Server 2.4.59 and earlier allows an attacker to crash the server via a malicious request.\nUsers are recommended to upgrade to version 2.4.60, which fixes this issue.</td>\n                            <td style=\"text-align: center;\">7.5</td>\n                            <td style=\"text-align: center;\">High</td>\n                            <td style=\"text-align: center;\">0.00126</td>\n                            <td style=\"text-align: center; padding: 20px;\">None</td>\n                        </tr>\n                        \n                        <tr>\n                            <td style=\"text-align: center; padding: 20px;\">80</td>\n                            <td style=\"text-align: center; padding: 20px;\">CVE-2006-20001</td>\n                            <td style=\"text-align: justify; padding: 20px;\">A carefully crafted If: request header can cause a memory read, or write of a single zero byte, in a pool (heap) memory location beyond the header value sent. This could cause the process to crash.\n\nThis issue affects Apache HTTP Server 2.4.54 and earlier.\n</td>\n                            <td style=\"text-align: center;\">7.5</td>\n                            <td style=\"text-align: center;\">High</td>\n                            <td style=\"text-align: center;\">0.00091</td>\n                            <td style=\"text-align: center; padding: 20px;\">None</td>\n                        </tr>\n                        \n                        <tr>\n                            <td style=\"text-align: center; padding: 20px;\">80</td>\n                            <td style=\"text-align: center; padding: 20px;\">CVE-2021-33193</td>\n                            <td style=\"text-align: justify; padding: 20px;\">A crafted method sent through HTTP/2 will bypass validation and be forwarded by mod_proxy, which can lead to request splitting or cache poisoning. This issue affects Apache HTTP Server 2.4.17 to 2.4.48.</td>\n                            <td style=\"text-align: center;\">7.5</td>\n                            <td style=\"text-align: center;\">High</td>\n                            <td style=\"text-align: center;\">0.00188</td>\n                            <td style=\"text-align: center; padding: 20px;\">None</td>\n                        </tr>\n                        \n                        <tr>\n                            <td style=\"text-align: center; padding: 20px;\">80</td>\n                            <td style=\"text-align: center; padding: 20px;\">CVE-2019-10097</td>\n                            <td style=\"text-align: justify; padding: 20px;\">In Apache HTTP Server 2.4.32-2.4.39, when mod_remoteip was configured to use a trusted intermediary proxy server using the \"PROXY\" protocol, a specially crafted PROXY header could trigger a stack buffer overflow or NULL pointer deference. This vulnerability could only be triggered by a trusted proxy and not by untrusted HTTP clients.</td>\n                            <td style=\"text-align: center;\">7.2</td>\n                            <td style=\"text-align: center;\">High</td>\n                            <td style=\"text-align: center;\">0.84682</td>\n                            <td style=\"text-align: center; padding: 20px;\">None</td>\n                        </tr>\n                        \n                        <tr>\n                            <td style=\"text-align: center; padding: 20px;\">80</td>\n                            <td style=\"text-align: center; padding: 20px;\">CVE-2021-36160</td>\n                            <td style=\"text-align: justify; padding: 20px;\">A carefully crafted request uri-path can cause mod_proxy_uwsgi to read above the allocated memory and crash (DoS). This issue affects Apache HTTP Server versions 2.4.30 to 2.4.48 (inclusive).</td>\n                            <td style=\"text-align: center;\">7.5</td>\n                            <td style=\"text-align: center;\">High</td>\n                            <td style=\"text-align: center;\">0.00278</td>\n                            <td style=\"text-align: center; padding: 20px;\">None</td>\n                        </tr>\n                        \n                        <tr>\n                            <td style=\"text-align: center; padding: 20px;\">80</td>\n                            <td style=\"text-align: center; padding: 20px;\">CVE-2018-17199</td>\n                            <td style=\"text-align: justify; padding: 20px;\">In Apache HTTP Server 2.4 release 2.4.37 and prior, mod_session checks the session expiry time before decoding the session. This causes session expiry time to be ignored for mod_session_cookie sessions since the expiry time is loaded when the session is decoded.</td>\n                            <td style=\"text-align: center;\">7.5</td>\n                            <td style=\"text-align: center;\">High</td>\n                            <td style=\"text-align: center;\">0.00431</td>\n                            <td style=\"text-align: center; padding: 20px;\">None</td>\n                        </tr>\n                        \n                        <tr>\n                            <td style=\"text-align: center; padding: 20px;\">80</td>\n                            <td style=\"text-align: center; padding: 20px;\">CVE-2011-2688</td>\n                            <td style=\"text-align: justify; padding: 20px;\">SQL injection vulnerability in mysql/mysql-auth.pl in the mod_authnz_external module 3.2.5 and earlier for the Apache HTTP Server allows remote attackers to execute arbitrary SQL commands via the user field.</td>\n                            <td style=\"text-align: center;\">7.5</td>\n                            <td style=\"text-align: center;\">High</td>\n                            <td style=\"text-align: center;\">0.00166</td>\n                            <td style=\"text-align: center; padding: 20px;\">None</td>\n                        </tr>\n                        \n                        <tr>\n                            <td style=\"text-align: center; padding: 20px;\">80</td>\n                            <td style=\"text-align: center; padding: 20px;\">CVE-2021-34798</td>\n                            <td style=\"text-align: justify; padding: 20px;\">Malformed requests may cause the server to dereference a NULL pointer. This issue affects Apache HTTP Server 2.4.48 and earlier.</td>\n                            <td style=\"text-align: center;\">7.5</td>\n                            <td style=\"text-align: center;\">High</td>\n                            <td style=\"text-align: center;\">0.01136</td>\n                            <td style=\"text-align: center; padding: 20px;\">None</td>\n                        </tr>\n                        \n                        <tr>\n                            <td style=\"text-align: center; padding: 20px;\">80</td>\n                            <td style=\"text-align: center; padding: 20px;\">CVE-2020-9490</td>\n                            <td style=\"text-align: justify; padding: 20px;\">Apache HTTP Server versions 2.4.20 to 2.4.43. A specially crafted value for the 'Cache-Digest' header in a HTTP/2 request would result in a crash when the server actually tries to HTTP/2 PUSH a resource afterwards. Configuring the HTTP/2 feature via \"H2Push off\" will mitigate this vulnerability for unpatched servers.</td>\n                            <td style=\"text-align: center;\">7.5</td>\n                            <td style=\"text-align: center;\">High</td>\n                            <td style=\"text-align: center;\">0.02338</td>\n                            <td style=\"text-align: center; padding: 20px;\">None</td>\n                        </tr>\n                        \n                        <tr>\n                            <td style=\"text-align: center; padding: 20px;\">80</td>\n                            <td style=\"text-align: center; padding: 20px;\">CVE-2021-44224</td>\n                            <td style=\"text-align: justify; padding: 20px;\">A crafted URI sent to httpd configured as a forward proxy (ProxyRequests on) can cause a crash (NULL pointer dereference) or, for configurations mixing forward and reverse proxy declarations, can allow for requests to be directed to a declared Unix Domain Socket endpoint (Server Side Request Forgery). This issue affects Apache HTTP Server 2.4.7 up to 2.4.51 (included).</td>\n                            <td style=\"text-align: center;\">8.2</td>\n                            <td style=\"text-align: center;\">High</td>\n                            <td style=\"text-align: center;\">0.43211</td>\n                            <td style=\"text-align: center; padding: 20px;\">None</td>\n                        </tr>\n                        \n                        <tr>\n                            <td style=\"text-align: center; padding: 20px;\">80</td>\n                            <td style=\"text-align: center; padding: 20px;\">CVE-2007-4723</td>\n                            <td style=\"text-align: justify; padding: 20px;\">Directory traversal vulnerability in Ragnarok Online Control Panel 4.3.4a, when the Apache HTTP Server is used, allows remote attackers to bypass authentication via directory traversal sequences in a URI that ends with the name of a publicly available page, as demonstrated by a \"/...../\" sequence and an account_manage.php/login.php final component for reaching the protected account_manage.php page.</td>\n                            <td style=\"text-align: center;\">7.5</td>\n                            <td style=\"text-align: center;\">High</td>\n                            <td style=\"text-align: center;\">0.00432</td>\n                            <td style=\"text-align: center; padding: 20px;\">None</td>\n                        </tr>\n                        \n                        <tr>\n                            <td style=\"text-align: center; padding: 20px;\">80</td>\n                            <td style=\"text-align: center; padding: 20px;\">CVE-2021-26690</td>\n                            <td style=\"text-align: justify; padding: 20px;\">Apache HTTP Server versions 2.4.0 to 2.4.46 A specially crafted Cookie header handled by mod_session can cause a NULL pointer dereference and crash, leading to a possible Denial Of Service</td>\n                            <td style=\"text-align: center;\">7.5</td>\n                            <td style=\"text-align: center;\">High</td>\n                            <td style=\"text-align: center;\">0.81214</td>\n                            <td style=\"text-align: center; padding: 20px;\">None</td>\n                        </tr>\n                        \n                        <tr>\n                            <td style=\"text-align: center; padding: 20px;\">80</td>\n                            <td style=\"text-align: center; padding: 20px;\">CVE-2022-26377</td>\n                            <td style=\"text-align: justify; padding: 20px;\">Inconsistent Interpretation of HTTP Requests ('HTTP Request Smuggling') vulnerability in mod_proxy_ajp of Apache HTTP Server allows an attacker to smuggle requests to the AJP server it forwards requests to. This issue affects Apache HTTP Server Apache HTTP Server 2.4 version 2.4.53 and prior versions.</td>\n                            <td style=\"text-align: center;\">7.5</td>\n                            <td style=\"text-align: center;\">High</td>\n                            <td style=\"text-align: center;\">0.00317</td>\n                            <td style=\"text-align: center; padding: 20px;\">None</td>\n                        </tr>\n                        \n                        <tr>\n                            <td style=\"text-align: center; padding: 20px;\">80</td>\n                            <td style=\"text-align: center; padding: 20px;\">CVE-2019-10081</td>\n                            <td style=\"text-align: justify; padding: 20px;\">HTTP/2 (2.4.20 through 2.4.39) very early pushes, for example configured with \"H2PushResource\", could lead to an overwrite of memory in the pushing request's pool, leading to crashes. The memory copied is that of the configured push link header values, not data supplied by the client.</td>\n                            <td style=\"text-align: center;\">7.5</td>\n                            <td style=\"text-align: center;\">High</td>\n                            <td style=\"text-align: center;\">0.01273</td>\n                            <td style=\"text-align: center; padding: 20px;\">None</td>\n                        </tr>\n                        \n                        <tr>\n                            <td style=\"text-align: center; padding: 20px;\">80</td>\n                            <td style=\"text-align: center; padding: 20px;\">CVE-2024-40898</td>\n                            <td style=\"text-align: justify; padding: 20px;\">SSRF in Apache HTTP Server on Windows with mod_rewrite in server/vhost context, allows to potentially leak NTML hashes to a malicious server via SSRF and malicious requests.\n\nUsers are recommended to upgrade to version 2.4.62 which fixes this issue. </td>\n                            <td style=\"text-align: center;\">7.5</td>\n                            <td style=\"text-align: center;\">High</td>\n                            <td style=\"text-align: center;\">0.00079</td>\n                            <td style=\"text-align: center; padding: 20px;\">None</td>\n                        </tr>\n                        \n                        <tr>\n                            <td style=\"text-align: center; padding: 20px;\">80</td>\n                            <td style=\"text-align: center; padding: 20px;\">CVE-2019-0217</td>\n                            <td style=\"text-align: justify; padding: 20px;\">In Apache HTTP Server 2.4 release 2.4.38 and prior, a race condition in mod_auth_digest when running in a threaded server could allow a user with valid credentials to authenticate using another username, bypassing configured access control restrictions.</td>\n                            <td style=\"text-align: center;\">7.5</td>\n                            <td style=\"text-align: center;\">High</td>\n                            <td style=\"text-align: center;\">0.00252</td>\n                            <td style=\"text-align: center; padding: 20px;\">None</td>\n                        </tr>\n                        \n                        <tr>\n                            <td style=\"text-align: center; padding: 20px;\">80</td>\n                            <td style=\"text-align: center; padding: 20px;\">CVE-2022-30556</td>\n                            <td style=\"text-align: justify; padding: 20px;\">Apache HTTP Server 2.4.53 and earlier may return lengths to applications calling r:wsread() that point past the end of the storage allocated for the buffer.</td>\n                            <td style=\"text-align: center;\">7.5</td>\n                            <td style=\"text-align: center;\">High</td>\n                            <td style=\"text-align: center;\">0.00225</td>\n                            <td style=\"text-align: center; padding: 20px;\">None</td>\n                        </tr>\n                        \n                        <tr>\n                            <td style=\"text-align: center; padding: 20px;\">80</td>\n                            <td style=\"text-align: center; padding: 20px;\">CVE-2022-22719</td>\n                            <td style=\"text-align: justify; padding: 20px;\">A carefully crafted request body can cause a read to a random memory area which could cause the process to crash. This issue affects Apache HTTP Server 2.4.52 and earlier.</td>\n                            <td style=\"text-align: center;\">7.5</td>\n                            <td style=\"text-align: center;\">High</td>\n                            <td style=\"text-align: center;\">0.10023</td>\n                            <td style=\"text-align: center; padding: 20px;\">None</td>\n                        </tr>\n                        \n                            </tbody>\n                        </table>\n                    </div>\n                    ",
          "text/plain": "<IPython.core.display.HTML object>"
         },
         "metadata": {},
         "output_type": "display_data"
        }
       ]
      }
     },
     "c31f87b2bd914426930866d46016dbcb": {
      "model_module": "@jupyter-widgets/controls",
      "model_module_version": "2.0.0",
      "model_name": "VBoxModel",
      "state": {
       "children": [
        "IPY_MODEL_dc8c105a32a94c91b0679dc7343c3767"
       ],
       "layout": "IPY_MODEL_1bc7aa0b74d54387a4f42db7e571a424"
      }
     },
     "d41825d6a1134bf2b7a470cbca94f141": {
      "model_module": "@jupyter-widgets/base",
      "model_module_version": "2.0.0",
      "model_name": "LayoutModel",
      "state": {}
     },
     "dc8c105a32a94c91b0679dc7343c3767": {
      "model_module": "@jupyter-widgets/controls",
      "model_module_version": "2.0.0",
      "model_name": "DropdownModel",
      "state": {
       "_options_labels": [
        "All Ports",
        "80"
       ],
       "description": "Filter by Port:",
       "index": 1,
       "layout": "IPY_MODEL_d41825d6a1134bf2b7a470cbca94f141",
       "style": "IPY_MODEL_94b039d713c84733bbcda1dbae81ae10"
      }
     },
     "e598bb726e5c41098c3955aa9e21b8a9": {
      "model_module": "@jupyter-widgets/controls",
      "model_module_version": "2.0.0",
      "model_name": "VBoxModel",
      "state": {
       "children": [
        "IPY_MODEL_9c3208c592a147af9fce7abeed67ac75",
        "IPY_MODEL_bf65cedd05ab43fd88f2912782013ece"
       ],
       "layout": "IPY_MODEL_33b151c40bbe4b369da72c747a42521b"
      }
     },
     "ee1d7a881f584020bdebf57e266c3586": {
      "model_module": "@jupyter-widgets/controls",
      "model_module_version": "2.0.0",
      "model_name": "SliderStyleModel",
      "state": {
       "description_width": ""
      }
     },
     "ff6cf06dd7fa4f928133f3cdba7f9928": {
      "model_module": "@jupyter-widgets/base",
      "model_module_version": "2.0.0",
      "model_name": "LayoutModel",
      "state": {}
     }
    },
    "version_major": 2,
    "version_minor": 0
   }
  }
 },
 "nbformat": 4,
 "nbformat_minor": 5
}
